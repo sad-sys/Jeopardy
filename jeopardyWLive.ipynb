{
 "cells": [
  {
   "cell_type": "code",
   "execution_count": 2,
   "metadata": {},
   "outputs": [
    {
     "ename": "Exception",
     "evalue": "\n            FATAL ERROR:\n            You are attempting to instantiate a Deepgram object, which is no longer a class in version 3 of this SDK.\n\n            To fix this issue:\n                1. You need to revert to the previous version 2 of the SDK: pip install deepgram-sdk==2.12.0\n                2. or, update your application's code to use version 3 of this SDK. See the README for more information.\n\n            Things to consider:\n\n                - This Version 3 of the SDK requires Python 3.10 or higher.\n                  Older versions (3.9 and lower) of Python are nearing end-of-life: https://devguide.python.org/versions/\n                  Understand the risks of using a version of Python nearing EOL.\n\n                - Version 2 of the SDK will receive maintenance updates in the form of security fixes only.\n                  No new features will be added to version 2 of the SDK.\n            ",
     "output_type": "error",
     "traceback": [
      "\u001b[0;31m---------------------------------------------------------------------------\u001b[0m",
      "\u001b[0;31mException\u001b[0m                                 Traceback (most recent call last)",
      "Cell \u001b[0;32mIn[2], line 11\u001b[0m\n\u001b[1;32m      8\u001b[0m config \u001b[38;5;241m=\u001b[39m {\u001b[38;5;124m\"\u001b[39m\u001b[38;5;124mkeepalive\u001b[39m\u001b[38;5;124m\"\u001b[39m: \u001b[38;5;28;01mTrue\u001b[39;00m}\n\u001b[1;32m     10\u001b[0m \u001b[38;5;66;03m# Create a Deepgram client\u001b[39;00m\n\u001b[0;32m---> 11\u001b[0m deepgram \u001b[38;5;241m=\u001b[39m \u001b[43mDeepgram\u001b[49m\u001b[43m(\u001b[49m\u001b[43mAPI_KEY\u001b[49m\u001b[43m,\u001b[49m\u001b[43m \u001b[49m\u001b[43mconfig\u001b[49m\u001b[43m)\u001b[49m\n\u001b[1;32m     13\u001b[0m \u001b[38;5;66;03m# Use the listen.live class to create the websocket connection\u001b[39;00m\n\u001b[1;32m     14\u001b[0m dg_connection \u001b[38;5;241m=\u001b[39m deepgram\u001b[38;5;241m.\u001b[39mtranscription\u001b[38;5;241m.\u001b[39mlive()\n",
      "File \u001b[0;32m~/Documents/Brackets/JEOPARDY/jeopardyEnv/lib/python3.11/site-packages/deepgram/client.py:139\u001b[0m, in \u001b[0;36mDeepgram.__init__\u001b[0;34m(self, *anything)\u001b[0m\n\u001b[1;32m    138\u001b[0m \u001b[38;5;28;01mdef\u001b[39;00m \u001b[38;5;21m__init__\u001b[39m(\u001b[38;5;28mself\u001b[39m, \u001b[38;5;241m*\u001b[39manything):\n\u001b[0;32m--> 139\u001b[0m     \u001b[38;5;28;01mraise\u001b[39;00m \u001b[38;5;167;01mException\u001b[39;00m(\n\u001b[1;32m    140\u001b[0m \u001b[38;5;250m        \u001b[39m\u001b[38;5;124;03m\"\"\"\u001b[39;00m\n\u001b[1;32m    141\u001b[0m \u001b[38;5;124;03m        FATAL ERROR:\u001b[39;00m\n\u001b[1;32m    142\u001b[0m \u001b[38;5;124;03m        You are attempting to instantiate a Deepgram object, which is no longer a class in version 3 of this SDK.\u001b[39;00m\n\u001b[1;32m    143\u001b[0m \n\u001b[1;32m    144\u001b[0m \u001b[38;5;124;03m        To fix this issue:\u001b[39;00m\n\u001b[1;32m    145\u001b[0m \u001b[38;5;124;03m            1. You need to revert to the previous version 2 of the SDK: pip install deepgram-sdk==2.12.0\u001b[39;00m\n\u001b[1;32m    146\u001b[0m \u001b[38;5;124;03m            2. or, update your application's code to use version 3 of this SDK. See the README for more information.\u001b[39;00m\n\u001b[1;32m    147\u001b[0m \n\u001b[1;32m    148\u001b[0m \u001b[38;5;124;03m        Things to consider:\u001b[39;00m\n\u001b[1;32m    149\u001b[0m \n\u001b[1;32m    150\u001b[0m \u001b[38;5;124;03m            - This Version 3 of the SDK requires Python 3.10 or higher.\u001b[39;00m\n\u001b[1;32m    151\u001b[0m \u001b[38;5;124;03m              Older versions (3.9 and lower) of Python are nearing end-of-life: https://devguide.python.org/versions/\u001b[39;00m\n\u001b[1;32m    152\u001b[0m \u001b[38;5;124;03m              Understand the risks of using a version of Python nearing EOL.\u001b[39;00m\n\u001b[1;32m    153\u001b[0m \n\u001b[1;32m    154\u001b[0m \u001b[38;5;124;03m            - Version 2 of the SDK will receive maintenance updates in the form of security fixes only.\u001b[39;00m\n\u001b[1;32m    155\u001b[0m \u001b[38;5;124;03m              No new features will be added to version 2 of the SDK.\u001b[39;00m\n\u001b[1;32m    156\u001b[0m \u001b[38;5;124;03m        \"\"\"\u001b[39;00m\n\u001b[1;32m    157\u001b[0m     )\n",
      "\u001b[0;31mException\u001b[0m: \n            FATAL ERROR:\n            You are attempting to instantiate a Deepgram object, which is no longer a class in version 3 of this SDK.\n\n            To fix this issue:\n                1. You need to revert to the previous version 2 of the SDK: pip install deepgram-sdk==2.12.0\n                2. or, update your application's code to use version 3 of this SDK. See the README for more information.\n\n            Things to consider:\n\n                - This Version 3 of the SDK requires Python 3.10 or higher.\n                  Older versions (3.9 and lower) of Python are nearing end-of-life: https://devguide.python.org/versions/\n                  Understand the risks of using a version of Python nearing EOL.\n\n                - Version 2 of the SDK will receive maintenance updates in the form of security fixes only.\n                  No new features will be added to version 2 of the SDK.\n            "
     ]
    }
   ],
   "source": [
    "from deepgram import Deepgram\n",
    "import os\n",
    "\n",
    "# Load the API key from environment variables\n",
    "API_KEY = os.getenv(\"c833809dc96c88fe5ae88e09b9c20883732d64ae\")\n",
    "\n",
    "# Configure the DeepgramClientOptions\n",
    "config = {\"keepalive\": True}\n",
    "\n",
    "# Create a Deepgram client\n",
    "deepgram = Deepgram(API_KEY, config)\n",
    "\n",
    "# Use the listen.live class to create the websocket connection\n",
    "dg_connection = deepgram.transcription.live()\n"
   ]
  }
 ],
 "metadata": {
  "kernelspec": {
   "display_name": "jeopardyEnv",
   "language": "python",
   "name": "python3"
  },
  "language_info": {
   "codemirror_mode": {
    "name": "ipython",
    "version": 3
   },
   "file_extension": ".py",
   "mimetype": "text/x-python",
   "name": "python",
   "nbconvert_exporter": "python",
   "pygments_lexer": "ipython3",
   "version": "3.11.3"
  }
 },
 "nbformat": 4,
 "nbformat_minor": 2
}
